{
  "nbformat": 4,
  "nbformat_minor": 0,
  "metadata": {
    "colab": {
      "provenance": [],
      "authorship_tag": "ABX9TyMrnQaVU3NEvRR+++q3taBn",
      "include_colab_link": true
    },
    "kernelspec": {
      "name": "python3",
      "display_name": "Python 3"
    },
    "language_info": {
      "name": "python"
    }
  },
  "cells": [
    {
      "cell_type": "markdown",
      "metadata": {
        "id": "view-in-github",
        "colab_type": "text"
      },
      "source": [
        "<a href=\"https://colab.research.google.com/github/Swat2498/Finalproject_selenium/blob/main/Python_list_%26_Dictinory_coding_assignment_Swati_Borse.ipynb\" target=\"_parent\"><img src=\"https://colab.research.google.com/assets/colab-badge.svg\" alt=\"Open In Colab\"/></a>"
      ]
    },
    {
      "cell_type": "markdown",
      "source": [],
      "metadata": {
        "id": "162rntFqP3Jl"
      }
    },
    {
      "cell_type": "markdown",
      "source": [
        "? Write a program to find duplicate values from the list\n"
      ],
      "metadata": {
        "id": "BTX1uKpsP5Lk"
      }
    },
    {
      "cell_type": "code",
      "execution_count": 4,
      "metadata": {
        "colab": {
          "base_uri": "https://localhost:8080/"
        },
        "id": "HJFtcLOUPsNL",
        "outputId": "1f27b32c-ea1e-4154-b5da-b46298950f33"
      },
      "outputs": [
        {
          "output_type": "stream",
          "name": "stdout",
          "text": [
            "to duplicate list\n",
            "22\n",
            "34\n",
            "55\n",
            "7\n"
          ]
        }
      ],
      "source": [
        "list=[22,34,22,55,7,55,7,3,4,9,12,34,5]\n",
        "print('to duplicate list')\n",
        "for i in range (0,len(list)):\n",
        " for j in range (i+1,len(list)):\n",
        "\n",
        "  if (list[i]==list[j]):\n",
        "    print(list[i])"
      ]
    },
    {
      "cell_type": "markdown",
      "source": [
        "? Write a program to remove duplicates from the list\n"
      ],
      "metadata": {
        "id": "I0SNg1aMVvFL"
      }
    },
    {
      "cell_type": "code",
      "source": [
        "duplicate = [2, 4, 10, 20, 5, 2, 20, 4]\n",
        "print(Remove(duplicate))"
      ],
      "metadata": {
        "colab": {
          "base_uri": "https://localhost:8080/"
        },
        "id": "GdgxFf1wkFBj",
        "outputId": "717b1a62-df09-4915-e2f7-4377671b7602"
      },
      "execution_count": 17,
      "outputs": [
        {
          "output_type": "stream",
          "name": "stdout",
          "text": [
            "[2, 4, 10, 20, 5]\n"
          ]
        }
      ]
    },
    {
      "cell_type": "code",
      "source": [
        "def Remove(duplicate):\n",
        "    final_list = []\n",
        "    for num in duplicate:\n",
        "        if num not in final_list:\n",
        "            final_list.append(num)\n",
        "    return final_list\n",
        ""
      ],
      "metadata": {
        "id": "cij6Knudlpoy"
      },
      "execution_count": 15,
      "outputs": []
    },
    {
      "cell_type": "code",
      "source": [
        "duplicate = [2, 4, 10, 20, 5, 2, 20, 4]\n",
        "print(Remove(duplicate))"
      ],
      "metadata": {
        "colab": {
          "base_uri": "https://localhost:8080/"
        },
        "id": "5eBzGDLSls3z",
        "outputId": "881fe40c-f7dc-4055-95c0-bdc41b79be5f"
      },
      "execution_count": 16,
      "outputs": [
        {
          "output_type": "stream",
          "name": "stdout",
          "text": [
            "[2, 4, 10, 20, 5]\n"
          ]
        }
      ]
    },
    {
      "cell_type": "markdown",
      "source": [
        "? Write syntax and one example for lambda function\n"
      ],
      "metadata": {
        "id": "2Eg683hRmBCf"
      }
    },
    {
      "cell_type": "code",
      "source": [
        "#syntax\n",
        "lambda argument:expression\n"
      ],
      "metadata": {
        "id": "7kHrDpVemCAk"
      },
      "execution_count": null,
      "outputs": []
    },
    {
      "cell_type": "code",
      "source": [
        "d=lambda x:x*2\n",
        "d(5)\n",
        "d(7)\n"
      ],
      "metadata": {
        "colab": {
          "base_uri": "https://localhost:8080/"
        },
        "id": "A_kyZtUnmg8D",
        "outputId": "bbcf3356-6460-4707-caa9-2a67a222608a"
      },
      "execution_count": 20,
      "outputs": [
        {
          "output_type": "execute_result",
          "data": {
            "text/plain": [
              "14"
            ]
          },
          "metadata": {},
          "execution_count": 20
        }
      ]
    },
    {
      "cell_type": "code",
      "source": [
        "s=lambda a,b: if a>b else bprint(\"The biggest no is:\" s(10,100))"
      ],
      "metadata": {
        "colab": {
          "base_uri": "https://localhost:8080/",
          "height": 106
        },
        "id": "edgiru0AnByI",
        "outputId": "57812448-f1fd-4975-902a-1faf5cc2386b"
      },
      "execution_count": 23,
      "outputs": [
        {
          "output_type": "error",
          "ename": "SyntaxError",
          "evalue": "invalid syntax (<ipython-input-23-9c2d100fcc69>, line 1)",
          "traceback": [
            "\u001b[0;36m  File \u001b[0;32m\"<ipython-input-23-9c2d100fcc69>\"\u001b[0;36m, line \u001b[0;32m1\u001b[0m\n\u001b[0;31m    s=lambda a,b: if a>b else bprint(\"The biggest no is:\" s(10,100))\u001b[0m\n\u001b[0m                  ^\u001b[0m\n\u001b[0;31mSyntaxError\u001b[0m\u001b[0;31m:\u001b[0m invalid syntax\n"
          ]
        }
      ]
    },
    {
      "cell_type": "markdown",
      "source": [
        "Write one example for list comprehension\n"
      ],
      "metadata": {
        "id": "i4YjgYF8nrxF"
      }
    },
    {
      "cell_type": "code",
      "source": [
        "'''\n",
        "syntax\n",
        "output_list=[output_exp for var in input_list if (var satisfies this condition)]\n",
        "'''\n",
        "\n",
        "output_list_com=[var for var in input_list if var%2==0]\n",
        "print(output_list_com)"
      ],
      "metadata": {
        "colab": {
          "base_uri": "https://localhost:8080/"
        },
        "id": "QS_lQPtMoHRM",
        "outputId": "cf4dba9e-3e24-4e60-8831-726c85e6ccc7"
      },
      "execution_count": 26,
      "outputs": [
        {
          "output_type": "stream",
          "name": "stdout",
          "text": [
            "[2, 4, 6, 8]\n"
          ]
        }
      ]
    },
    {
      "cell_type": "markdown",
      "source": [
        "? How to find elements that are common in two lists\n"
      ],
      "metadata": {
        "id": "BAD707UK3U28"
      }
    },
    {
      "cell_type": "code",
      "source": [
        "a = [1, 2, 3, 4, 5]\n",
        "b = [5, 2, 6, 3, 9]\n",
        "\n",
        "result = [i for i in a if i in b]\n",
        "\n",
        "print(\"The common elements are:\", result)"
      ],
      "metadata": {
        "colab": {
          "base_uri": "https://localhost:8080/"
        },
        "id": "rbh1RZCO3SJB",
        "outputId": "ea0a7295-7717-4d00-a525-60ff8a895d46"
      },
      "execution_count": 27,
      "outputs": [
        {
          "output_type": "stream",
          "name": "stdout",
          "text": [
            "The common elements are: [2, 3, 5]\n"
          ]
        }
      ]
    },
    {
      "cell_type": "code",
      "source": [
        "a = [1, 2, 3, 4, 5]\n",
        "b = [5, 2, 6, 3, 9]\n",
        "\n",
        "result = (set(a) & set(b))\n",
        "\n",
        "if result:\n",
        "   print(\"The common elements are:\", result)\n",
        "else:\n",
        "   print(\"No common elements present in two arrays\")"
      ],
      "metadata": {
        "colab": {
          "base_uri": "https://localhost:8080/",
          "height": 211
        },
        "id": "Fre-aO3o3dld",
        "outputId": "4d1d573d-7ce3-4c95-b192-f6f389ad44dd"
      },
      "execution_count": 28,
      "outputs": [
        {
          "output_type": "error",
          "ename": "TypeError",
          "evalue": "'set' object is not callable",
          "traceback": [
            "\u001b[0;31m---------------------------------------------------------------------------\u001b[0m",
            "\u001b[0;31mTypeError\u001b[0m                                 Traceback (most recent call last)",
            "\u001b[0;32m<ipython-input-28-648e5bb213c0>\u001b[0m in \u001b[0;36m<cell line: 4>\u001b[0;34m()\u001b[0m\n\u001b[1;32m      2\u001b[0m \u001b[0mb\u001b[0m \u001b[0;34m=\u001b[0m \u001b[0;34m[\u001b[0m\u001b[0;36m5\u001b[0m\u001b[0;34m,\u001b[0m \u001b[0;36m2\u001b[0m\u001b[0;34m,\u001b[0m \u001b[0;36m6\u001b[0m\u001b[0;34m,\u001b[0m \u001b[0;36m3\u001b[0m\u001b[0;34m,\u001b[0m \u001b[0;36m9\u001b[0m\u001b[0;34m]\u001b[0m\u001b[0;34m\u001b[0m\u001b[0;34m\u001b[0m\u001b[0m\n\u001b[1;32m      3\u001b[0m \u001b[0;34m\u001b[0m\u001b[0m\n\u001b[0;32m----> 4\u001b[0;31m \u001b[0mresult\u001b[0m \u001b[0;34m=\u001b[0m \u001b[0;34m(\u001b[0m\u001b[0mset\u001b[0m\u001b[0;34m(\u001b[0m\u001b[0ma\u001b[0m\u001b[0;34m)\u001b[0m \u001b[0;34m&\u001b[0m \u001b[0mset\u001b[0m\u001b[0;34m(\u001b[0m\u001b[0mb\u001b[0m\u001b[0;34m)\u001b[0m\u001b[0;34m)\u001b[0m\u001b[0;34m\u001b[0m\u001b[0;34m\u001b[0m\u001b[0m\n\u001b[0m\u001b[1;32m      5\u001b[0m \u001b[0;34m\u001b[0m\u001b[0m\n\u001b[1;32m      6\u001b[0m \u001b[0;32mif\u001b[0m \u001b[0mresult\u001b[0m\u001b[0;34m:\u001b[0m\u001b[0;34m\u001b[0m\u001b[0;34m\u001b[0m\u001b[0m\n",
            "\u001b[0;31mTypeError\u001b[0m: 'set' object is not callable"
          ]
        }
      ]
    },
    {
      "cell_type": "code",
      "source": [
        "lst = [1,2,3,4]\n",
        "\n",
        "# evaluating empty list object to False\n",
        "if not lst:\n",
        "   print('Empty list')\n",
        "else:\n",
        "   print('List is not Empty \\n',lst)"
      ],
      "metadata": {
        "colab": {
          "base_uri": "https://localhost:8080/"
        },
        "id": "Gaeu-k5b9sMo",
        "outputId": "b723c2b6-d410-4133-f60b-cad93dd5bf6c"
      },
      "execution_count": 31,
      "outputs": [
        {
          "output_type": "stream",
          "name": "stdout",
          "text": [
            "List is not Empty \n",
            " [1, 2, 3, 4]\n"
          ]
        }
      ]
    },
    {
      "cell_type": "code",
      "source": [
        "lst = []\n",
        "\n",
        "# Checking whether the list size is equal to 0\n",
        "if lst.__len__() == 0:\n",
        "   print('Empty list')\n",
        "else:\n",
        "   print('Not Empty list')"
      ],
      "metadata": {
        "colab": {
          "base_uri": "https://localhost:8080/"
        },
        "id": "JYOkhxE7BD6E",
        "outputId": "0bcdce9b-1278-4652-f4c3-121ae2c0123b"
      },
      "execution_count": 32,
      "outputs": [
        {
          "output_type": "stream",
          "name": "stdout",
          "text": [
            "Empty list\n"
          ]
        }
      ]
    },
    {
      "cell_type": "markdown",
      "source": [
        "How to find max or min number from a list"
      ],
      "metadata": {
        "id": "XoQvpZ3gBQOo"
      }
    },
    {
      "cell_type": "code",
      "source": [
        "l1=[1,5,66,7,8,20,12]\n",
        "maximum=max(l1)\n",
        "print(\"the mazximum no of the list\",maximum)"
      ],
      "metadata": {
        "colab": {
          "base_uri": "https://localhost:8080/"
        },
        "id": "D6JyWSihBSHh",
        "outputId": "5e842799-e29c-493b-a6e5-e02d2df0827b"
      },
      "execution_count": 33,
      "outputs": [
        {
          "output_type": "stream",
          "name": "stdout",
          "text": [
            "the mazximum no of the list 66\n"
          ]
        }
      ]
    },
    {
      "cell_type": "code",
      "source": [
        "l1=[1,5,66,7,8,20,12]\n",
        "minimum=min(l1)\n",
        "print(\"the minimum no of the list is:\", minimum)"
      ],
      "metadata": {
        "colab": {
          "base_uri": "https://localhost:8080/"
        },
        "id": "HOJE9UWTCUsa",
        "outputId": "1bd861e7-6f71-4478-a1a6-d3a164ea22e6"
      },
      "execution_count": 34,
      "outputs": [
        {
          "output_type": "stream",
          "name": "stdout",
          "text": [
            "the minimum no of the list is: 1\n"
          ]
        }
      ]
    },
    {
      "cell_type": "markdown",
      "source": [
        " How to concatenate two lists by using python"
      ],
      "metadata": {
        "id": "H73yJpezMjPM"
      }
    },
    {
      "cell_type": "code",
      "source": [
        "list=['banana','rose','lily','jasmin']\n",
        "list2=[1,2,3,4]\n",
        "temp=list+list2\n",
        "print(temp)"
      ],
      "metadata": {
        "colab": {
          "base_uri": "https://localhost:8080/"
        },
        "id": "GKHBHLZfCloX",
        "outputId": "bbe1316b-954e-40ca-f0a8-7df5e453153a"
      },
      "execution_count": 1,
      "outputs": [
        {
          "output_type": "stream",
          "name": "stdout",
          "text": [
            "['banana', 'rose', 'lily', 'jasmin', 1, 2, 3, 4]\n"
          ]
        }
      ]
    },
    {
      "cell_type": "markdown",
      "source": [
        "Find a particular value present or not and print its count\n"
      ],
      "metadata": {
        "id": "iZpT8452SHCP"
      }
    },
    {
      "cell_type": "code",
      "source": [
        "list=['swati','is ','data enfineer',14,'package']\n",
        "print('swati' in list)\n",
        "count=list.count('swati')\n",
        "print(count)"
      ],
      "metadata": {
        "colab": {
          "base_uri": "https://localhost:8080/"
        },
        "id": "_OjMwxgeSMai",
        "outputId": "99b12484-76ca-4211-9725-780dd31d171f"
      },
      "execution_count": 5,
      "outputs": [
        {
          "output_type": "stream",
          "name": "stdout",
          "text": [
            "True\n",
            "1\n"
          ]
        }
      ]
    },
    {
      "cell_type": "code",
      "source": [
        "colors = ['red', 'blue', 'green', 'blue', 'yellow']\n",
        "if colors.count('blue') > 0:\n",
        "    print(\"Element found!\")\n",
        "else:\n",
        "    print(\"Element not found.\")"
      ],
      "metadata": {
        "id": "ZgWlz7MoVRYb",
        "outputId": "048f35ca-ce29-4e2b-e0e3-148d3e8f1400",
        "colab": {
          "base_uri": "https://localhost:8080/"
        }
      },
      "execution_count": 6,
      "outputs": [
        {
          "output_type": "stream",
          "name": "stdout",
          "text": [
            "Element found!\n"
          ]
        }
      ]
    },
    {
      "cell_type": "markdown",
      "source": [
        " Swap the first and last element of a list"
      ],
      "metadata": {
        "id": "k3tbTJSUVtY2"
      }
    },
    {
      "cell_type": "code",
      "source": [
        "colors = ['red', 'blue', 'green', 'blue', 'yellow']\n",
        "swap=colors[::-1]\n",
        "print(swap)"
      ],
      "metadata": {
        "id": "AN0zBYhJVvkZ",
        "outputId": "99920ffd-3eab-4746-8704-c906ff21122f",
        "colab": {
          "base_uri": "https://localhost:8080/"
        }
      },
      "execution_count": 7,
      "outputs": [
        {
          "output_type": "stream",
          "name": "stdout",
          "text": [
            "['yellow', 'blue', 'green', 'blue', 'red']\n"
          ]
        }
      ]
    },
    {
      "cell_type": "code",
      "source": [
        "lst = [23, 100, 54, 56, 98]\n",
        "\n",
        "lst[0], lst[-1] = lst[-1], lst[0]\n",
        "\n",
        "print(lst)"
      ],
      "metadata": {
        "id": "RsJeBu-rXdcU",
        "outputId": "8bc1e070-1a31-44af-9080-0833b3fb215d",
        "colab": {
          "base_uri": "https://localhost:8080/"
        }
      },
      "execution_count": 8,
      "outputs": [
        {
          "output_type": "stream",
          "name": "stdout",
          "text": [
            "[98, 100, 54, 56, 23]\n"
          ]
        }
      ]
    },
    {
      "cell_type": "markdown",
      "source": [
        "How to convert two lists into a dictionary"
      ],
      "metadata": {
        "id": "XXlsEHuuXt8L"
      }
    },
    {
      "cell_type": "code",
      "source": [
        "colors = ['red', 'blue', 'green', 'blue']\n",
        "list=['banana','rose','lily','jasmin']\n",
        "convert=dict(zip(colors,list))\n",
        "print(convert)"
      ],
      "metadata": {
        "id": "UnZc9YZ2X1iM",
        "outputId": "d29436db-c0e6-4315-e7a7-de0a6c56a16b",
        "colab": {
          "base_uri": "https://localhost:8080/"
        }
      },
      "execution_count": 12,
      "outputs": [
        {
          "output_type": "stream",
          "name": "stdout",
          "text": [
            "{'red': 'banana', 'blue': 'jasmin', 'green': 'lily'}\n"
          ]
        }
      ]
    },
    {
      "cell_type": "code",
      "source": [
        "#using list comprehension\n",
        "index = [1, 2, 3]\n",
        "languages = ['python', 'c', 'c++']\n",
        "\n",
        "dictionary = {k: v for k, v in zip(index, languages)}\n",
        "print(dictionary)"
      ],
      "metadata": {
        "id": "6BVA7BTcZbxG",
        "outputId": "3f9e389f-1e12-4b42-ca63-4e5e0b60aac4",
        "colab": {
          "base_uri": "https://localhost:8080/"
        }
      },
      "execution_count": 13,
      "outputs": [
        {
          "output_type": "stream",
          "name": "stdout",
          "text": [
            "{1: 'python', 2: 'c', 3: 'c++'}\n"
          ]
        }
      ]
    },
    {
      "cell_type": "markdown",
      "source": [
        "How to merge two dictionaries"
      ],
      "metadata": {
        "id": "9G-nq2mxZxVt"
      }
    },
    {
      "cell_type": "code",
      "source": [
        "item={'red': 'banana', 'blue': 'jasmin'}\n",
        "lang={1: 'python', 2: 'c', 3: 'c++'}\n",
        "total=({**item ,**lang})\n",
        "print(total)"
      ],
      "metadata": {
        "id": "DhyPyD_1ZzKb",
        "outputId": "74b70d9f-aff3-41a5-fce7-934e2037b7a7",
        "colab": {
          "base_uri": "https://localhost:8080/"
        }
      },
      "execution_count": 20,
      "outputs": [
        {
          "output_type": "stream",
          "name": "stdout",
          "text": [
            "{'red': 'banana', 'blue': 'jasmin', 1: 'python', 2: 'c', 3: 'c++'}\n"
          ]
        }
      ]
    },
    {
      "cell_type": "code",
      "source": [
        "item={'red': 'banana', 'blue': 'jasmin'}\n",
        "lang={1: 'python', 2: 'c', 3: 'c++'}\n",
        "item2=lang.copy()\n",
        "item2.update(lang)\n",
        "print(item2)"
      ],
      "metadata": {
        "id": "ysVYvKefbMOv",
        "outputId": "8bdbcd91-75dc-4835-aba3-8f0235df69a3",
        "colab": {
          "base_uri": "https://localhost:8080/"
        }
      },
      "execution_count": 21,
      "outputs": [
        {
          "output_type": "stream",
          "name": "stdout",
          "text": [
            "{1: 'python', 2: 'c', 3: 'c++'}\n"
          ]
        }
      ]
    },
    {
      "cell_type": "markdown",
      "source": [
        "Write a triangle pattern program"
      ],
      "metadata": {
        "id": "_VXuqkUocD4S"
      }
    },
    {
      "cell_type": "code",
      "source": [
        "rows = int(input(\"Enter number of rows: \"))\n",
        "\n",
        "for i in range(rows):\n",
        "    for j in range(i+1):\n",
        "        print(\"* \", end=\"\")\n",
        "    print()"
      ],
      "metadata": {
        "id": "DsGVcfO9cEy6",
        "outputId": "7f9c3630-e374-44f1-a62f-dcd449eaa1ed",
        "colab": {
          "base_uri": "https://localhost:8080/"
        }
      },
      "execution_count": 22,
      "outputs": [
        {
          "output_type": "stream",
          "name": "stdout",
          "text": [
            "Enter number of rows: 5\n",
            "* \n",
            "* * \n",
            "* * * \n",
            "* * * * \n",
            "* * * * * \n"
          ]
        }
      ]
    },
    {
      "cell_type": "code",
      "source": [
        "# print half pyramid a using numbers\n",
        "rows = int(input(\"Enter number of rows: \"))\n",
        "\n",
        "for i in range(rows):\n",
        "    for j in range(i+1):\n",
        "        print(j+1, end=\" \")\n",
        "    print()"
      ],
      "metadata": {
        "id": "yncPkQ22cjXO",
        "outputId": "b2b35a90-327d-4f28-fe6d-4e396f773bcd",
        "colab": {
          "base_uri": "https://localhost:8080/"
        }
      },
      "execution_count": 23,
      "outputs": [
        {
          "output_type": "stream",
          "name": "stdout",
          "text": [
            "Enter number of rows: 8\n",
            "1 \n",
            "1 2 \n",
            "1 2 3 \n",
            "1 2 3 4 \n",
            "1 2 3 4 5 \n",
            "1 2 3 4 5 6 \n",
            "1 2 3 4 5 6 7 \n",
            "1 2 3 4 5 6 7 8 \n"
          ]
        }
      ]
    },
    {
      "cell_type": "code",
      "source": [
        "#: Program to print half pyramid using alphabets\n",
        "rows = int(input(\"Enter number of rows: \"))\n",
        "\n",
        "ascii_value = 65\n",
        "\n",
        "for i in range(rows):\n",
        "    for j in range(i+1):\n",
        "        alphabet = chr(ascii_value)\n",
        "        print(alphabet, end=\" \")\n",
        "\n",
        "    ascii_value += 1\n",
        "    print()"
      ],
      "metadata": {
        "id": "_lx2MAC6cwpe",
        "outputId": "9ddb7b58-7c8e-479d-b3c3-8c3285e8c27c",
        "colab": {
          "base_uri": "https://localhost:8080/"
        }
      },
      "execution_count": 24,
      "outputs": [
        {
          "output_type": "stream",
          "name": "stdout",
          "text": [
            "Enter number of rows: 6\n",
            "A \n",
            "B B \n",
            "C C C \n",
            "D D D D \n",
            "E E E E E \n",
            "F F F F F F \n"
          ]
        }
      ]
    },
    {
      "cell_type": "code",
      "source": [
        "# Inverted half pyramid using\n",
        "rows = int(input(\"Enter number of rows: \"))\n",
        "\n",
        "for i in range(rows, 0, -1):\n",
        "    for j in range(0, i):\n",
        "        print(\"* \", end=\" \")\n",
        "\n",
        "    print()"
      ],
      "metadata": {
        "id": "FxNKVProc3AE",
        "outputId": "38a06096-6973-41d8-b805-d8872f4782ee",
        "colab": {
          "base_uri": "https://localhost:8080/"
        }
      },
      "execution_count": 25,
      "outputs": [
        {
          "output_type": "stream",
          "name": "stdout",
          "text": [
            "Enter number of rows: 5\n",
            "*  *  *  *  *  \n",
            "*  *  *  *  \n",
            "*  *  *  \n",
            "*  *  \n",
            "*  \n"
          ]
        }
      ]
    },
    {
      "cell_type": "code",
      "source": [
        "#to print full pyramid using *\n",
        "rows = int(input(\"Enter number of rows: \"))\n",
        "\n",
        "k = 0\n",
        "\n",
        "for i in range(1, rows+1):\n",
        "    for space in range(1, (rows-i)+1):\n",
        "        print(end=\"  \")\n",
        "\n",
        "    while k!=(2*i-1):\n",
        "        print(\"* \", end=\"\")\n",
        "        k += 1\n",
        "\n",
        "    k = 0\n",
        "    print()"
      ],
      "metadata": {
        "id": "dvh5gx43dqvy",
        "outputId": "5ef451a9-5aa4-4d7f-8376-082fdf355701",
        "colab": {
          "base_uri": "https://localhost:8080/"
        }
      },
      "execution_count": 26,
      "outputs": [
        {
          "output_type": "stream",
          "name": "stdout",
          "text": [
            "Enter number of rows: 4\n",
            "      * \n",
            "    * * * \n",
            "  * * * * * \n",
            "* * * * * * * \n"
          ]
        }
      ]
    },
    {
      "cell_type": "code",
      "source": [
        "#Floyd's Triangle\n",
        "rows = int(input(\"Enter number of rows: \"))\n",
        "number = 1\n",
        "\n",
        "for i in range(1, rows+1):\n",
        "    for j in range(1, i+1):\n",
        "        print(number, end=\" \")\n",
        "        number += 1\n",
        "    print()"
      ],
      "metadata": {
        "id": "bidp6YcXeNrd",
        "outputId": "fb2d6076-6dcc-43fa-c02b-0d158a6e1fe2",
        "colab": {
          "base_uri": "https://localhost:8080/"
        }
      },
      "execution_count": 27,
      "outputs": [
        {
          "output_type": "stream",
          "name": "stdout",
          "text": [
            "Enter number of rows: 6\n",
            "1 \n",
            "2 3 \n",
            "4 5 6 \n",
            "7 8 9 10 \n",
            "11 12 13 14 15 \n",
            "16 17 18 19 20 21 \n"
          ]
        }
      ]
    }
  ]
}